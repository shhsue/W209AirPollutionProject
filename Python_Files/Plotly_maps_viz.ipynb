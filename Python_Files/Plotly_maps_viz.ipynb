{
 "cells": [
  {
   "cell_type": "code",
   "execution_count": 1,
   "metadata": {
    "collapsed": true
   },
   "outputs": [],
   "source": [
    "import plotly\n",
    "plotly.tools.set_credentials_file(username='anakai3@berkeley.edu', api_key='OOCaTL37ib8u0gwsCQOl')\n",
    "\n",
    "import plotly.plotly as py\n",
    "from plotly.graph_objs import *\n",
    "import pandas as pd\n",
    "from ipywidgets import widgets \n",
    "from IPython.display import display\n",
    "from plotly.graph_objs import *\n",
    "from plotly.widgets import GraphWidget\n",
    "import plotly.graph_objs as go\n",
    "from plotly.tools import FigureFactory as FF\n",
    "mapbox_access_token ='pk.eyJ1IjoiYW5ha2FpMyIsImEiOiJjamZsbm53dTUwanljMndzMnR0ZXZiOWUzIn0.tJZ5UpqBKnHl-TbScs7c5A'"
   ]
  },
  {
   "cell_type": "code",
   "execution_count": 300,
   "metadata": {
    "scrolled": false
   },
   "outputs": [
    {
     "data": {
      "text/html": [
       "<iframe id=\"igraph\" scrolling=\"no\" style=\"border:none;\" seamless=\"seamless\" src=\"https://plot.ly/~anakai3/186.embed\" height=\"525px\" width=\"100%\"></iframe>"
      ],
      "text/plain": [
       "<plotly.tools.PlotlyDisplay object>"
      ]
     },
     "execution_count": 300,
     "metadata": {},
     "output_type": "execute_result"
    }
   ],
   "source": [
    "##Mortality Rates Data\n",
    "df3=pd.read_csv('mortalityrates.csv')\n",
    "df_city_mapping=df3.groupby(['city'],as_index=False)['city','Latitude','Longitude'].mean()\n",
    "df_city_mortality=df3.groupby(['city','cause'],as_index=False)['mort_rate','Latitude','Longitude'].mean()\n",
    "df_city_mortality = df_city_mortality[df_city_mortality.mort_rate < 1000]\n",
    "df_city_mortality=df_city_mortality.round(2)\n",
    "data=[]\n",
    "disease_list=['All Other Causes of Death', \"Alzheimer's Disease\", 'Cancers','Chronic Liver Disease and Cirrhosis',\n",
    "       'Chronic Lower Respiratory Disease', 'Diabetes Mellitus','Diseases of the Heart', 'Homicide','Hypertension and Hypertensive Renal Disease',\n",
    "       'Nephritis, Nephrotic Syndrome and Nephrosis','Pneumonia and Influenza', 'Stroke', 'Suicide','Unintentional Injuries']\n",
    "for i in disease_list:\n",
    "    data.append(\n",
    "    Scattermapbox(\n",
    "        lat=df_city_mortality.Latitude[df_city_mortality['cause']==i],\n",
    "        lon=df_city_mortality.Longitude[df_city_mortality['cause']==i],\n",
    "        mode='markers',\n",
    "        marker=Marker(\n",
    "            size=6,\n",
    "            color= df_city_mortality.mort_rate[df_city_mortality['cause']==i],\n",
    "            colorscale = 'Reds',\n",
    "            opacity=1.0\n",
    "        ),\n",
    "        text=df_city_mortality.mort_rate[df_city_mortality['cause']==i],#+str(df_city_mortality.mort_rate[df_city_mortality['cause']==i]),\n",
    "        #name=df_city_mortality.mort_rate[df_city_mortality['cause']==i],\n",
    "        hoverinfo='text'\n",
    "    ))\n",
    "nested_vis_list=[]\n",
    "for i in range(0,14):\n",
    "    nested_vis_list.append([0]*14)\n",
    "    nested_vis_list[i][i]=1\n",
    "for i in range(0,14):\n",
    "    for j in range(0,14):\n",
    "        if nested_vis_list[i][j]==1:\n",
    "            nested_vis_list[i][j]=True\n",
    "        else:\n",
    "            nested_vis_list[i][j]=False          \n",
    "update_list=[]\n",
    "cnt=0\n",
    "for i in disease_list:\n",
    "    vis_list[cnt]=True\n",
    "    update_list.append(dict(label = i,method = 'update',\n",
    "                            args = [{'visible': nested_vis_list[cnt]},{'title': i,'annotations': []}]))\n",
    "    vis_list[cnt]=False\n",
    "    cnt+=1\n",
    "\n",
    "updatemenus = list([\n",
    "    dict(active=-1,\n",
    "         buttons=update_list,\n",
    "    )\n",
    "])\n",
    "        \n",
    "layout = Layout(\n",
    "    title='Mortality rates in California',\n",
    "    autosize=True,\n",
    "    hovermode='closest',\n",
    "    showlegend=False,\n",
    "    updatemenus=updatemenus,\n",
    "    mapbox=dict(\n",
    "        accesstoken=mapbox_access_token,\n",
    "        bearing=0,\n",
    "        center=dict(\n",
    "            lat=37,\n",
    "            lon=-118\n",
    "        ),\n",
    "        pitch=0,\n",
    "        zoom=4,\n",
    "        style='light'\n",
    "    ),\n",
    ")\n",
    "\n",
    "\n",
    "fig = dict(data=data, layout=layout)\n",
    "py.iplot(fig)\n",
    "\n"
   ]
  },
  {
   "cell_type": "code",
   "execution_count": null,
   "metadata": {
    "collapsed": true,
    "scrolled": true
   },
   "outputs": [],
   "source": [
    "#Air pollution Data\n",
    "#Adding Year Column\n",
    "df2=pd.read_csv('pollutiontest.csv')\n",
    "df2['year'] = pd.DatetimeIndex(df2['Date_Local']).year\n",
    "df_airpol_agg=df2.groupby(['City'],as_index=False)['co_aqi_level','so2_aqi_level','no2_aqi_level','o3_aqi_level'].mean()\n",
    "df_airpol_agg.drop([21])"
   ]
  },
  {
   "cell_type": "code",
   "execution_count": 242,
   "metadata": {},
   "outputs": [],
   "source": [
    "#Using GeoPy API to get Lat Longs of the Cities \n",
    "\n",
    "# city_list=list(df_airpol_agg.City.unique())\n",
    "# from geopy.geocoders import Nominatim\n",
    "# geolocator = Nominatim()\n",
    "# city_dict={}\n",
    "# for c in city_list:\n",
    "#     try:\n",
    "#         location = geolocator.geocode(str(c)+',CA')\n",
    "#         city_dict[c]=(location.latitude,location.longitude)\n",
    "#     except:\n",
    "#         city_dict[c]=('NA','NA')\n",
    "# city_dict['San Pablo']=(37.9621, -122.3455)\n",
    "\n",
    "city_dict={'Arden-Arcade': (38.6039613, -121.383003529994),\n",
    " 'Bakersfield': (35.3738712, -119.0194639),\n",
    " 'Benicia': (38.049365, -122.1585777),\n",
    " 'Berkeley': (44.3669375, -80.7272504),\n",
    " 'Bethel Island': (38.0149216, -121.6405085),\n",
    " 'Burbank': (34.1816482, -118.3258554),\n",
    " 'Calexico': (32.6790572, -115.498703),\n",
    " 'Capitan': (32.9164928, -116.8296446),\n",
    " 'Chula Vista': (32.6400541, -117.0841955),\n",
    " 'Concord': (45.452798, -62.7905136),\n",
    " 'Costa Mesa': (33.6633386, -117.903317),\n",
    " 'Crockett': (38.0525612, -122.2202603),\n",
    " 'Davenport': (51.04172695, -114.085008927677),\n",
    " 'Eureka': (79.98855485, -85.9373384357636),\n",
    " 'Fontana': (34.0922335, -117.435048),\n",
    " 'Fresno': (36.7378, -119.7871),\n",
    " 'Goleta': (34.4358295, -119.8276389),\n",
    " 'Hawthorne': (45.9647141, -61.4706939),\n",
    " 'Lompoc': (34.6391501, -120.4579409),\n",
    " 'Long Beach': (44.4567705, -78.7359702),\n",
    " 'Los Angeles': (34.054935, -118.244476),\n",
    " 'Oakland': (43.0317491, -80.3310713),\n",
    " 'Pittsburg': (38.0181745, -121.8901232),\n",
    " 'Rubidoux': (33.9964933, -117.4079318),\n",
    " 'San Diego': (32.7174209, -117.1627714),\n",
    " 'San Francisco': (46.8443248, -71.2743272),\n",
    " 'San Pablo': (37.9621, -122.3455),\n",
    " 'Vallejo': (38.1040864, -122.2566367),\n",
    " 'Vandenberg Air Force Base': (34.7088437, -120.544742203778),\n",
    " 'Victorville': (34.5361067, -117.2911565),\n",
    " 'West Los Angeles': (34.0463986, -118.448135)}"
   ]
  },
  {
   "cell_type": "code",
   "execution_count": null,
   "metadata": {
    "collapsed": true
   },
   "outputs": [],
   "source": [
    "#Adding Lat Longs to Data Frame\n",
    "df_airpol_agg['Latitude']=100\n",
    "df_airpol_agg['Longitude']=100\n",
    "cnt=0\n",
    "for i in city_dict:\n",
    "    df_airpol_agg.loc[cnt, 'Latitude'] = city_dict[df_airpol_agg.City[cnt]][0]\n",
    "    df_airpol_agg.loc[cnt, 'Longitude'] = city_dict[df_airpol_agg.City[cnt]][1]\n",
    "    cnt+=1"
   ]
  },
  {
   "cell_type": "code",
   "execution_count": 296,
   "metadata": {},
   "outputs": [
    {
     "data": {
      "text/html": [
       "<iframe id=\"igraph\" scrolling=\"no\" style=\"border:none;\" seamless=\"seamless\" src=\"https://plot.ly/~anakai3/178.embed\" height=\"525px\" width=\"100%\"></iframe>"
      ],
      "text/plain": [
       "<plotly.tools.PlotlyDisplay object>"
      ]
     },
     "execution_count": 296,
     "metadata": {},
     "output_type": "execute_result"
    }
   ],
   "source": [
    "#Making Plotly ScatterMapBox For Air Pollution Data\n",
    "data=[]\n",
    "metric_list=['so2_aqi_level','no2_aqi_level','o3_aqi_level']\n",
    "\n",
    "for i in metric_list:\n",
    "    data.append(\n",
    "    Scattermapbox(\n",
    "        lat=df_airpol_agg['Latitude'],\n",
    "        lon=df_airpol_agg['Longitude'],\n",
    "        mode='markers',\n",
    "        marker=Marker(\n",
    "            size=8,\n",
    "            color= df_airpol_agg[i],\n",
    "            colorscale = 'Reds',\n",
    "            opacity=1.0\n",
    "        ),\n",
    "        text=df_airpol_agg[i],\n",
    "        hoverinfo='text'\n",
    "    ))\n",
    "nested_vis_list=[]\n",
    "for i in range(0,3):\n",
    "    nested_vis_list.append([0]*3)\n",
    "    nested_vis_list[i][i]=1\n",
    "for i in range(0,3):\n",
    "    for j in range(0,3):\n",
    "        if nested_vis_list[i][j]==1:\n",
    "            nested_vis_list[i][j]=True\n",
    "        else:\n",
    "            nested_vis_list[i][j]=False          \n",
    "update_list=[]\n",
    "cnt=0\n",
    "for i in metric_list:\n",
    "    vis_list[cnt]=True\n",
    "    update_list.append(dict(label = i,method = 'update',\n",
    "                            args = [{'visible': nested_vis_list[cnt]},{'title': i,'annotations': []}]))\n",
    "    vis_list[cnt]=False\n",
    "    cnt+=1\n",
    "\n",
    "updatemenus = list([\n",
    "    dict(active=-1,\n",
    "         buttons=update_list,\n",
    "    )\n",
    "])\n",
    "        \n",
    "layout = Layout(\n",
    "    title='Air Pollution API Levels in California',\n",
    "    autosize=True,\n",
    "    hovermode='closest',\n",
    "    showlegend=False,\n",
    "    updatemenus=updatemenus,\n",
    "    mapbox=dict(\n",
    "        accesstoken=mapbox_access_token,\n",
    "        bearing=0,\n",
    "        center=dict(\n",
    "            lat=37,\n",
    "            lon=-118\n",
    "        ),\n",
    "        pitch=0,\n",
    "        zoom=4,\n",
    "        style='light'\n",
    "    ),\n",
    ")\n",
    "\n",
    "\n",
    "fig = dict(data=data, layout=layout)\n",
    "py.iplot(fig)"
   ]
  },
  {
   "cell_type": "code",
   "execution_count": 295,
   "metadata": {},
   "outputs": [],
   "source": [
    "df_airpol_agg=df_airpol_agg.round(2)"
   ]
  },
  {
   "cell_type": "code",
   "execution_count": null,
   "metadata": {
    "collapsed": true
   },
   "outputs": [],
   "source": []
  }
 ],
 "metadata": {
  "kernelspec": {
   "display_name": "Python 3",
   "language": "python",
   "name": "python3"
  },
  "language_info": {
   "codemirror_mode": {
    "name": "ipython",
    "version": 3
   },
   "file_extension": ".py",
   "mimetype": "text/x-python",
   "name": "python",
   "nbconvert_exporter": "python",
   "pygments_lexer": "ipython3",
   "version": "3.6.3"
  }
 },
 "nbformat": 4,
 "nbformat_minor": 2
}
