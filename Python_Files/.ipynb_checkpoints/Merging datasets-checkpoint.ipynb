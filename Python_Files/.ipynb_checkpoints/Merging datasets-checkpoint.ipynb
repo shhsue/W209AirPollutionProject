{
 "cells": [
  {
   "cell_type": "code",
   "execution_count": 83,
   "metadata": {},
   "outputs": [],
   "source": [
    "import pandas as pd\n",
    "import numpy as np\n",
    "\n",
    "df_airpol = pd.read_csv('ca_airpollution_2000-2016-Copy1.csv')\n",
    "df_airpol\n",
    "\n",
    "df_mort=pd.read_csv('mortalityrates-Copy1.csv')\n",
    "#df_mort"
   ]
  },
  {
   "cell_type": "code",
   "execution_count": 6,
   "metadata": {
    "collapsed": true
   },
   "outputs": [],
   "source": [
    "##Writing merged data to a CSV file\n",
    "#df_merged.to_csv('merged_data.csv', encoding='utf-8', index=False)"
   ]
  },
  {
   "cell_type": "code",
   "execution_count": 124,
   "metadata": {},
   "outputs": [],
   "source": [
    "#df_mort.shape[0]\n",
    "#number of records Mortality data=148999\n",
    "#Need to pivot and reshape table to merge\n",
    "\n",
    "#df_mort.groupby(['Causes_of_Death']).agg({'Causes_of_Death': np.size})\n",
    "#Validation of records by Cause of Death"
   ]
  },
  {
   "cell_type": "code",
   "execution_count": 63,
   "metadata": {},
   "outputs": [],
   "source": [
    "df_multi = df_mort.set_index(['city', 'Year'])\n",
    "#df_multi"
   ]
  },
  {
   "cell_type": "code",
   "execution_count": 112,
   "metadata": {},
   "outputs": [],
   "source": [
    "df_pivot=df_multi.pivot_table(index=['city', 'Year'], columns=['Causes_of_Death'], values='deaths')"
   ]
  },
  {
   "cell_type": "code",
   "execution_count": 77,
   "metadata": {},
   "outputs": [],
   "source": [
    "##Making a population table:\n",
    "## City, Population in 2000, Population in 2010\n",
    "df_pop=df2.groupby(['city','pop_2000','Pop_2010']).agg({'Causes_of_Death': np.size})\n",
    "df_pop = df_pop.drop('Causes_of_Death', 1)\n",
    "\n",
    "#Test how it looks\n",
    "#df_pop"
   ]
  },
  {
   "cell_type": "code",
   "execution_count": 120,
   "metadata": {},
   "outputs": [],
   "source": [
    "##Writing population data to a CSV file\n",
    "df_pop.to_csv('pop_data.csv', encoding='utf-8', index=False)"
   ]
  },
  {
   "cell_type": "code",
   "execution_count": 121,
   "metadata": {},
   "outputs": [],
   "source": [
    "##Joining the data on City\n",
    "df_merged=pd.merge(df_airpol,df_pivot, left_on='City', right_on='city', how='left')"
   ]
  },
  {
   "cell_type": "code",
   "execution_count": 122,
   "metadata": {},
   "outputs": [],
   "source": [
    "##Writing Merged data to a CSV file\n",
    "df_merged.to_csv('merged_data.csv', encoding='utf-8', index=False)"
   ]
  }
 ],
 "metadata": {
  "kernelspec": {
   "display_name": "Python 3",
   "language": "python",
   "name": "python3"
  },
  "language_info": {
   "codemirror_mode": {
    "name": "ipython",
    "version": 3
   },
   "file_extension": ".py",
   "mimetype": "text/x-python",
   "name": "python",
   "nbconvert_exporter": "python",
   "pygments_lexer": "ipython3",
   "version": "3.6.3"
  }
 },
 "nbformat": 4,
 "nbformat_minor": 2
}
